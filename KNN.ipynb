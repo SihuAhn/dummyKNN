{
 "cells": [
  {
   "cell_type": "code",
   "execution_count": 11,
   "metadata": {},
   "outputs": [],
   "source": [
    "import pandas as pd\n",
    "import numpy as np\n",
    "import numpy.matlib\n",
    "from sklearn.preprocessing import StandardScaler\n",
    "import scipy.stats as ss \n",
    "import matplotlib.pyplot as plt"
   ]
  },
  {
   "cell_type": "code",
   "execution_count": 12,
   "metadata": {},
   "outputs": [],
   "source": [
    "'''feature scaling to use Z-score\n",
    "    @name feature_scaling\n",
    "    @pram array, array\n",
    "    @retern array, array'''\n",
    "def feature_scaling(X_train, X_test):\n",
    "    scaler = StandardScaler().fit(X_train)\n",
    "    return scaler.transform(X_train), scaler.transform(X_test)\n",
    "\n",
    "'''minkowski distance\n",
    "    @name minkowski_distance\n",
    "    @pram array, array\n",
    "    @retern double'''\n",
    "def minkowski_distance(v1, v2):\n",
    "    return np.sum(abs(v1-v2))\n",
    "\n",
    "'''euclidean distance\n",
    "    @name euclidean_distance\n",
    "    @pram array, array\n",
    "    @retern double'''\n",
    "def euclidean_distance(v1, v2):\n",
    "    return np.sqrt(np.sum((v1 - v2) ** 2))\n",
    "\n",
    "'''cosine distance\n",
    "    @name cosine_distance\n",
    "    @pram array, array\n",
    "    @retern double'''\n",
    "def cosine_distance(v1, v2):\n",
    "    return np.dot(v1, v2) / (np.sqrt(np.dot(v1, v2)) * np.sqrt(np.dot(v1, v2)))\n",
    "\n",
    "'''KNN learning\n",
    "    @name get_KNN_matrix\n",
    "    @pram array, array, array\n",
    "    @retern matrix'''\n",
    "def get_KNN_matrix(X_train, y_train, X_test):\n",
    "    distance_matrix = np.zeros((len(X_test), len(X_train), 2))\n",
    "    for i in range(len(X_test)):\n",
    "        for j in range(len(X_train)):\n",
    "            distance_matrix[i][j][0], distance_matrix[i][j][1] = euclidean_distance(X_test[i], X_train[j]), y_train[j]\n",
    "    return distance_matrix\n",
    "\n",
    "'''KNN test\n",
    "    @name result_KNN_accuracy\n",
    "    @pram int, matrix, array\n",
    "    @retern double'''\n",
    "def result_KNN_accuracy(k, matrix, y_test):\n",
    "    if k%2==0:\n",
    "        return -1\n",
    "    else:\n",
    "        temp, accept = [0,0,0,0,0,0,0,0,0,0], 0\n",
    "        confusion_matrix = np.zeros((len(temp), len(temp)))\n",
    "        for i in range(len(matrix)):\n",
    "            for j in range(k):\n",
    "                temp[int(matrix[i][j][1])]+=1\n",
    "            if temp.index(max(temp))==y_test[i]:\n",
    "                accept+=1\n",
    "            temp=[0,0,0,0,0,0,0,0,0,0]\n",
    "        return accept/len(y_test)\n",
    "\n",
    "'''get KNN confusion matrix\n",
    "    @name KNN_confusion_matrix\n",
    "    @pram int, matrix, array\n",
    "    @retern matrix'''\n",
    "def KNN_confusion_matrix(k, matrix, y_test):\n",
    "    if k%2==0:\n",
    "        return -1\n",
    "    else:\n",
    "        confusion_matrix = np.zeros((10, 10))\n",
    "        for i in range(len(matrix)):\n",
    "            for j in range(k):\n",
    "                confusion_matrix[y_test[i]][int(matrix[i][j][1])]+=1\n",
    "        return confusion_matrix"
   ]
  },
  {
   "cell_type": "markdown",
   "metadata": {},
   "source": [
    "# Main"
   ]
  },
  {
   "cell_type": "code",
   "execution_count": 3,
   "metadata": {},
   "outputs": [],
   "source": [
    "# read data\n",
    "trainData = pd.read_csv(\"MNIST_training.csv\")\n",
    "testData = pd.read_csv(\"MNIST_test.csv\")\n",
    "\n",
    "# split X and y\n",
    "X_train, y_train = trainData.drop('label', axis=1), trainData.iloc[:, 0]\n",
    "X_test, y_test = testData.drop('label', axis=1), testData.iloc[:, 0]\n",
    "\n",
    "# feature scaling\n",
    "X_train, X_test = feature_scaling(X_train, X_test)\n",
    "\n",
    "# get matrix\n",
    "test_matrix = get_KNN_matrix(X_train, y_train, X_test)\n",
    "\n",
    "# sort the matrix\n",
    "for i in range(len(test_matrix)):\n",
    "    test_matrix[i] = test_matrix[i][test_matrix[i][:, 0].argsort()]\n",
    "\n"
   ]
  },
  {
   "cell_type": "code",
   "execution_count": 13,
   "metadata": {},
   "outputs": [
    {
     "name": "stdout",
     "output_type": "stream",
     "text": [
      "Best score is  0.92 \n",
      "Best k is  3\n"
     ]
    },
    {
     "data": {
      "text/plain": [
       "[<matplotlib.lines.Line2D at 0x262815b9438>]"
      ]
     },
     "execution_count": 13,
     "metadata": {},
     "output_type": "execute_result"
    },
    {
     "data": {
      "image/png": "[encoded data removed]",
      "text/plain": [
       "<Figure size 432x288 with 1 Axes>"
      ]
     },
     "metadata": {
      "needs_background": "light"
     },
     "output_type": "display_data"
    }
   ],
   "source": [
    "# Result\n",
    "best_score=0\n",
    "best_k = 0\n",
    "scores_list=[]\n",
    "range_num = range(1,51,2)\n",
    "for i in range_num:\n",
    "    accuracy = result_KNN_accuracy(i, test_matrix, y_test)\n",
    "    if best_score <= accuracy:\n",
    "        best_score,best_k = accuracy, i\n",
    "    scores_list.append(accuracy)\n",
    "print(\"Best score is \", best_score, \"\\nBest k is \", best_k)\n",
    "plt.plot(range_num, scores_list)"
   ]
  },
  {
   "cell_type": "code",
   "execution_count": 9,
   "metadata": {},
   "outputs": [
    {
     "data": {
      "text/plain": [
       "array([[14.,  0.,  1.,  0.,  0.,  0.,  0.,  0.,  0.,  0.],\n",
       "       [ 0., 15.,  0.,  0.,  0.,  0.,  0.,  0.,  0.,  0.],\n",
       "       [ 0.,  0.,  6.,  1.,  2.,  0.,  0.,  2.,  4.,  0.],\n",
       "       [ 0.,  0.,  0., 10.,  1.,  1.,  0.,  1.,  1.,  1.],\n",
       "       [ 0.,  0.,  0.,  0., 15.,  0.,  0.,  0.,  0.,  0.],\n",
       "       [ 0.,  0.,  0.,  0.,  1.,  9.,  1.,  0.,  2.,  2.],\n",
       "       [ 0.,  0.,  0.,  0.,  0.,  0., 15.,  0.,  0.,  0.],\n",
       "       [ 0.,  0.,  0.,  0.,  0.,  0.,  0., 12.,  0.,  3.],\n",
       "       [ 0.,  0.,  0.,  1.,  0.,  0.,  0.,  0., 14.,  0.],\n",
       "       [ 0.,  0.,  0.,  0.,  0.,  0.,  0.,  1.,  0., 14.]])"
      ]
     },
     "execution_count": 9,
     "metadata": {},
     "output_type": "execute_result"
    }
   ],
   "source": [
    "KNN_confusion_matrix(best_k, test_matrix, y_test)"
   ]
  },
  {
   "cell_type": "code",
   "execution_count": null,
   "metadata": {},
   "outputs": [],
   "source": []
  }
 ],
 "metadata": {
  "kernelspec": {
   "display_name": "Python 3",
   "language": "python",
   "name": "python3"
  },
  "language_info": {
   "codemirror_mode": {
    "name": "ipython",
    "version": 3
   },
   "file_extension": ".py",
   "mimetype": "text/x-python",
   "name": "python",
   "nbconvert_exporter": "python",
   "pygments_lexer": "ipython3",
   "version": "3.7.3"
  }
 },
 "nbformat": 4,
 "nbformat_minor": 4
}
